{
  "cells": [
    {
      "cell_type": "code",
      "execution_count": null,
      "metadata": {
        "id": "bKEc55y6Byie"
      },
      "outputs": [],
      "source": [
        "!pip install yfinance\n",
        "!pip install keras-tuner"
      ]
    },
    {
      "cell_type": "code",
      "execution_count": null,
      "metadata": {
        "id": "XLMi4vfODVaX"
      },
      "outputs": [],
      "source": [
        "import numpy as np\n",
        "import matplotlib.pyplot as plt\n",
        "import tensorflow as tf\n",
        "import yfinance as yf\n",
        "from tensorflow import keras\n",
        "from keras.models import Sequential\n",
        "from keras.layers import Dense, GRU, Dropout\n",
        "import pandas as pd\n",
        "from keras.optimizers import Adam\n",
        "from sklearn.preprocessing import MinMaxScaler\n",
        "from kerastuner.tuners import BayesianOptimization"
      ]
    },
    {
      "cell_type": "code",
      "execution_count": null,
      "metadata": {
        "colab": {
          "base_uri": "https://localhost:8080/",
          "height": 472
        },
        "id": "agLMkSEIED_3",
        "outputId": "843ccc39-40f1-4a34-cebb-e7232fcc9277"
      },
      "outputs": [
        {
          "name": "stdout",
          "output_type": "stream",
          "text": [
            "\r[*********************100%***********************]  1 of 1 completed\n"
          ]
        },
        {
          "data": {
            "text/html": [
              "\n",
              "  <div id=\"df-b5c0b29d-bab1-4551-b6c3-3f7f7b9da1b7\">\n",
              "    <div class=\"colab-df-container\">\n",
              "      <div>\n",
              "<style scoped>\n",
              "    .dataframe tbody tr th:only-of-type {\n",
              "        vertical-align: middle;\n",
              "    }\n",
              "\n",
              "    .dataframe tbody tr th {\n",
              "        vertical-align: top;\n",
              "    }\n",
              "\n",
              "    .dataframe thead th {\n",
              "        text-align: right;\n",
              "    }\n",
              "</style>\n",
              "<table border=\"1\" class=\"dataframe\">\n",
              "  <thead>\n",
              "    <tr style=\"text-align: right;\">\n",
              "      <th></th>\n",
              "      <th>Adj Close</th>\n",
              "      <th>Open</th>\n",
              "      <th>Close</th>\n",
              "      <th>High</th>\n",
              "      <th>Low</th>\n",
              "    </tr>\n",
              "    <tr>\n",
              "      <th>Date</th>\n",
              "      <th></th>\n",
              "      <th></th>\n",
              "      <th></th>\n",
              "      <th></th>\n",
              "      <th></th>\n",
              "    </tr>\n",
              "  </thead>\n",
              "  <tbody>\n",
              "    <tr>\n",
              "      <th>2012-01-03</th>\n",
              "      <td>16.573</td>\n",
              "      <td>16.263</td>\n",
              "      <td>16.573</td>\n",
              "      <td>16.641</td>\n",
              "      <td>16.248</td>\n",
              "    </tr>\n",
              "    <tr>\n",
              "      <th>2012-01-04</th>\n",
              "      <td>16.645</td>\n",
              "      <td>16.564</td>\n",
              "      <td>16.645</td>\n",
              "      <td>16.694</td>\n",
              "      <td>16.454</td>\n",
              "    </tr>\n",
              "    <tr>\n",
              "      <th>2012-01-05</th>\n",
              "      <td>16.414</td>\n",
              "      <td>16.491</td>\n",
              "      <td>16.414</td>\n",
              "      <td>16.537</td>\n",
              "      <td>16.344</td>\n",
              "    </tr>\n",
              "    <tr>\n",
              "      <th>2012-01-06</th>\n",
              "      <td>16.190</td>\n",
              "      <td>16.417</td>\n",
              "      <td>16.190</td>\n",
              "      <td>16.438</td>\n",
              "      <td>16.184</td>\n",
              "    </tr>\n",
              "    <tr>\n",
              "      <th>2012-01-09</th>\n",
              "      <td>15.503</td>\n",
              "      <td>16.102</td>\n",
              "      <td>15.503</td>\n",
              "      <td>16.115</td>\n",
              "      <td>15.473</td>\n",
              "    </tr>\n",
              "    <tr>\n",
              "      <th>...</th>\n",
              "      <td>...</td>\n",
              "      <td>...</td>\n",
              "      <td>...</td>\n",
              "      <td>...</td>\n",
              "      <td>...</td>\n",
              "    </tr>\n",
              "    <tr>\n",
              "      <th>2020-12-24</th>\n",
              "      <td>86.942</td>\n",
              "      <td>86.750</td>\n",
              "      <td>86.942</td>\n",
              "      <td>87.300</td>\n",
              "      <td>86.455</td>\n",
              "    </tr>\n",
              "    <tr>\n",
              "      <th>2020-12-28</th>\n",
              "      <td>88.804</td>\n",
              "      <td>87.582</td>\n",
              "      <td>88.804</td>\n",
              "      <td>89.536</td>\n",
              "      <td>87.317</td>\n",
              "    </tr>\n",
              "    <tr>\n",
              "      <th>2020-12-29</th>\n",
              "      <td>87.936</td>\n",
              "      <td>89.390</td>\n",
              "      <td>87.936</td>\n",
              "      <td>89.622</td>\n",
              "      <td>87.804</td>\n",
              "    </tr>\n",
              "    <tr>\n",
              "      <th>2020-12-30</th>\n",
              "      <td>86.976</td>\n",
              "      <td>88.101</td>\n",
              "      <td>86.976</td>\n",
              "      <td>88.255</td>\n",
              "      <td>86.280</td>\n",
              "    </tr>\n",
              "    <tr>\n",
              "      <th>2020-12-31</th>\n",
              "      <td>87.594</td>\n",
              "      <td>86.771</td>\n",
              "      <td>87.594</td>\n",
              "      <td>87.947</td>\n",
              "      <td>86.771</td>\n",
              "    </tr>\n",
              "  </tbody>\n",
              "</table>\n",
              "<p>2265 rows × 5 columns</p>\n",
              "</div>\n",
              "      <button class=\"colab-df-convert\" onclick=\"convertToInteractive('df-b5c0b29d-bab1-4551-b6c3-3f7f7b9da1b7')\"\n",
              "              title=\"Convert this dataframe to an interactive table.\"\n",
              "              style=\"display:none;\">\n",
              "        \n",
              "  <svg xmlns=\"http://www.w3.org/2000/svg\" height=\"24px\"viewBox=\"0 0 24 24\"\n",
              "       width=\"24px\">\n",
              "    <path d=\"M0 0h24v24H0V0z\" fill=\"none\"/>\n",
              "    <path d=\"M18.56 5.44l.94 2.06.94-2.06 2.06-.94-2.06-.94-.94-2.06-.94 2.06-2.06.94zm-11 1L8.5 8.5l.94-2.06 2.06-.94-2.06-.94L8.5 2.5l-.94 2.06-2.06.94zm10 10l.94 2.06.94-2.06 2.06-.94-2.06-.94-.94-2.06-.94 2.06-2.06.94z\"/><path d=\"M17.41 7.96l-1.37-1.37c-.4-.4-.92-.59-1.43-.59-.52 0-1.04.2-1.43.59L10.3 9.45l-7.72 7.72c-.78.78-.78 2.05 0 2.83L4 21.41c.39.39.9.59 1.41.59.51 0 1.02-.2 1.41-.59l7.78-7.78 2.81-2.81c.8-.78.8-2.07 0-2.86zM5.41 20L4 18.59l7.72-7.72 1.47 1.35L5.41 20z\"/>\n",
              "  </svg>\n",
              "      </button>\n",
              "      \n",
              "  <style>\n",
              "    .colab-df-container {\n",
              "      display:flex;\n",
              "      flex-wrap:wrap;\n",
              "      gap: 12px;\n",
              "    }\n",
              "\n",
              "    .colab-df-convert {\n",
              "      background-color: #E8F0FE;\n",
              "      border: none;\n",
              "      border-radius: 50%;\n",
              "      cursor: pointer;\n",
              "      display: none;\n",
              "      fill: #1967D2;\n",
              "      height: 32px;\n",
              "      padding: 0 0 0 0;\n",
              "      width: 32px;\n",
              "    }\n",
              "\n",
              "    .colab-df-convert:hover {\n",
              "      background-color: #E2EBFA;\n",
              "      box-shadow: 0px 1px 2px rgba(60, 64, 67, 0.3), 0px 1px 3px 1px rgba(60, 64, 67, 0.15);\n",
              "      fill: #174EA6;\n",
              "    }\n",
              "\n",
              "    [theme=dark] .colab-df-convert {\n",
              "      background-color: #3B4455;\n",
              "      fill: #D2E3FC;\n",
              "    }\n",
              "\n",
              "    [theme=dark] .colab-df-convert:hover {\n",
              "      background-color: #434B5C;\n",
              "      box-shadow: 0px 1px 3px 1px rgba(0, 0, 0, 0.15);\n",
              "      filter: drop-shadow(0px 1px 2px rgba(0, 0, 0, 0.3));\n",
              "      fill: #FFFFFF;\n",
              "    }\n",
              "  </style>\n",
              "\n",
              "      <script>\n",
              "        const buttonEl =\n",
              "          document.querySelector('#df-b5c0b29d-bab1-4551-b6c3-3f7f7b9da1b7 button.colab-df-convert');\n",
              "        buttonEl.style.display =\n",
              "          google.colab.kernel.accessAllowed ? 'block' : 'none';\n",
              "\n",
              "        async function convertToInteractive(key) {\n",
              "          const element = document.querySelector('#df-b5c0b29d-bab1-4551-b6c3-3f7f7b9da1b7');\n",
              "          const dataTable =\n",
              "            await google.colab.kernel.invokeFunction('convertToInteractive',\n",
              "                                                     [key], {});\n",
              "          if (!dataTable) return;\n",
              "\n",
              "          const docLinkHtml = 'Like what you see? Visit the ' +\n",
              "            '<a target=\"_blank\" href=https://colab.research.google.com/notebooks/data_table.ipynb>data table notebook</a>'\n",
              "            + ' to learn more about interactive tables.';\n",
              "          element.innerHTML = '';\n",
              "          dataTable['output_type'] = 'display_data';\n",
              "          await google.colab.output.renderOutput(dataTable, element);\n",
              "          const docLink = document.createElement('div');\n",
              "          docLink.innerHTML = docLinkHtml;\n",
              "          element.appendChild(docLink);\n",
              "        }\n",
              "      </script>\n",
              "    </div>\n",
              "  </div>\n",
              "  "
            ],
            "text/plain": [
              "            Adj Close    Open   Close    High     Low\n",
              "Date                                                 \n",
              "2012-01-03     16.573  16.263  16.573  16.641  16.248\n",
              "2012-01-04     16.645  16.564  16.645  16.694  16.454\n",
              "2012-01-05     16.414  16.491  16.414  16.537  16.344\n",
              "2012-01-06     16.190  16.417  16.190  16.438  16.184\n",
              "2012-01-09     15.503  16.102  15.503  16.115  15.473\n",
              "...               ...     ...     ...     ...     ...\n",
              "2020-12-24     86.942  86.750  86.942  87.300  86.455\n",
              "2020-12-28     88.804  87.582  88.804  89.536  87.317\n",
              "2020-12-29     87.936  89.390  87.936  89.622  87.804\n",
              "2020-12-30     86.976  88.101  86.976  88.255  86.280\n",
              "2020-12-31     87.594  86.771  87.594  87.947  86.771\n",
              "\n",
              "[2265 rows x 5 columns]"
            ]
          },
          "execution_count": 63,
          "metadata": {},
          "output_type": "execute_result"
        }
      ],
      "source": [
        "goog = yf.download(\"GOOG\",\n",
        "                   start=\"2012-01-01\", end=\"2021-01-01\")\n",
        "\n",
        "df = goog[[\"Adj Close\", \"Open\", \"Close\", \"High\", \"Low\"]].round(3)\n",
        "df"
      ]
    },
    {
      "cell_type": "code",
      "execution_count": null,
      "metadata": {
        "colab": {
          "base_uri": "https://localhost:8080/"
        },
        "id": "28d6lt16E0l-",
        "outputId": "cd0a88ca-3f9d-4a3e-cb6e-f8fd0fe31ee9"
      },
      "outputs": [
        {
          "name": "stdout",
          "output_type": "stream",
          "text": [
            "Total Data is : 2265\n",
            "Train data is : 1760\n",
            "Test data is : 756\n"
          ]
        }
      ],
      "source": [
        "train_df = df[:\"2018\"].Close.values.reshape(-1, 1)\n",
        "test_df = df[\"2018\":].Close.values.reshape(-1, 1)\n",
        "\n",
        "print(f\"Total Data is : {len(df)}\")\n",
        "print(f\"Train data is : {len(train_df)}\")\n",
        "print(f\"Test data is : {len(test_df)}\")"
      ]
    },
    {
      "cell_type": "code",
      "execution_count": null,
      "metadata": {
        "id": "vgSP1sQRFIzY"
      },
      "outputs": [],
      "source": [
        "def ts_data(df, X_steps, y_steps):\n",
        "  train_df = df[:\"2018\"].Close.values.reshape(-1 ,1)\n",
        "  test_df = df[\"2018\":].Close.values.reshape(-1 ,1)\n",
        "\n",
        "  sc = MinMaxScaler(feature_range=(0, 1))\n",
        "  train_df_scale = sc.fit_transform(train_df)\n",
        "\n",
        "  X_train = []\n",
        "  y_train = []\n",
        "\n",
        "  for i in range(X_steps, len(train_df_scale)-y_steps+1):\n",
        "    X_train.append(train_df_scale[i-X_steps:i, 0])\n",
        "    y_train.append(train_df_scale[i:i+y_steps, 0])\n",
        "  X_train = np.array(X_train)\n",
        "  y_train = np.array(y_train)\n",
        "  X_train = X_train.reshape((X_train.shape[0], X_train.shape[1], 1))\n",
        "\n",
        "  X = df.Close.values\n",
        "  X = X[len(X)-len(test_df)-X_steps:]\n",
        "  X = X.reshape(-1 ,1)\n",
        "  X = sc.transform(X)\n",
        "\n",
        "  X_test = []\n",
        "  y_test = []\n",
        "\n",
        "  for i in range(X_steps, len(test_df)+X_steps-y_steps+1):\n",
        "    X_test.append(X[i-X_steps:i, 0])\n",
        "    y_test.append(X[i:i+y_steps, 0])\n",
        "  X_test = np.array(X_test)\n",
        "  y_test = np.array(y_test)\n",
        "  X_test = X_test.reshape([X_test.shape[0], X_test.shape[1], 1])\n",
        "\n",
        "  return X_train, y_train, X_test, y_test, sc"
      ]
    },
    {
      "cell_type": "code",
      "execution_count": null,
      "metadata": {
        "id": "pbIBA68FIHUs"
      },
      "outputs": [],
      "source": [
        "X_train, y_train, X_test, y_test , sc = ts_data(df, 6, 2)"
      ]
    },
    {
      "cell_type": "code",
      "execution_count": null,
      "metadata": {
        "colab": {
          "base_uri": "https://localhost:8080/"
        },
        "id": "42oe7DkuIL0_",
        "outputId": "52f5617a-1523-435b-b23c-f64e00970bdf"
      },
      "outputs": [
        {
          "data": {
            "text/plain": [
              "(1753, 6, 1)"
            ]
          },
          "execution_count": 74,
          "metadata": {},
          "output_type": "execute_result"
        }
      ],
      "source": [
        "X_train.shape"
      ]
    },
    {
      "cell_type": "code",
      "execution_count": null,
      "metadata": {
        "colab": {
          "base_uri": "https://localhost:8080/"
        },
        "id": "B7p7c7McJe5j",
        "outputId": "b038d204-8a5f-4835-db92-d97d04b82e02"
      },
      "outputs": [
        {
          "data": {
            "text/plain": [
              "(755, 6, 1)"
            ]
          },
          "execution_count": 75,
          "metadata": {},
          "output_type": "execute_result"
        }
      ],
      "source": [
        "X_test.shape"
      ]
    },
    {
      "cell_type": "code",
      "execution_count": null,
      "metadata": {
        "colab": {
          "base_uri": "https://localhost:8080/"
        },
        "id": "EyclNLFdJhOB",
        "outputId": "9c0d841d-4991-494e-dfec-8b9e917dc025"
      },
      "outputs": [
        {
          "data": {
            "text/plain": [
              "(1753, 2)"
            ]
          },
          "execution_count": 76,
          "metadata": {},
          "output_type": "execute_result"
        }
      ],
      "source": [
        "y_train.shape"
      ]
    },
    {
      "cell_type": "code",
      "execution_count": null,
      "metadata": {
        "colab": {
          "base_uri": "https://localhost:8080/"
        },
        "id": "zD4nvSKEJmPM",
        "outputId": "97bcf69f-a2b6-46f9-f8ad-1f2c33e38cf8"
      },
      "outputs": [
        {
          "data": {
            "text/plain": [
              "(755, 2)"
            ]
          },
          "execution_count": 77,
          "metadata": {},
          "output_type": "execute_result"
        }
      ],
      "source": [
        "y_test.shape"
      ]
    },
    {
      "cell_type": "code",
      "execution_count": null,
      "metadata": {
        "id": "5-5ESUGOJogi"
      },
      "outputs": [],
      "source": [
        "def build_model(hp):\n",
        "    model = Sequential()\n",
        "    model.add(GRU(units=hp.Int('units', min_value=32, max_value=512, step=32),\n",
        "                                     input_shape=(X_train.shape[1], X_train.shape[2]), return_sequences=True))\n",
        "    model.add(Dropout(rate=hp.Float('dropout', min_value=0.0, max_value=0.5, step=0.1)))\n",
        "    model.add(GRU(units=hp.Int('units', min_value=32, max_value=512, step=32)))\n",
        "    model.add(Dropout(rate=hp.Float('dropout', min_value=0.0, max_value=0.5, step=0.1)))\n",
        "    model.add(Dense(units=y_train.shape[1]))\n",
        "\n",
        "    model.compile(optimizer=keras.optimizers.Adam(hp.Choice('learning_rate', values=[1e-2, 1e-3, 1e-4])),\n",
        "                  loss='mean_absolute_error', metrics=['accuracy'])\n",
        "    return model"
      ]
    },
    {
      "cell_type": "code",
      "execution_count": null,
      "metadata": {
        "id": "KY5iQTcdKUe0"
      },
      "outputs": [],
      "source": [
        "class CustomCallback(keras.callbacks.Callback):\n",
        "  def one_epoch_end(self, epoch, logs=None):\n",
        "    if logs.get('val_loss') < 0.05:\n",
        "      print('\\nValidation loss decreased below 0.05, stopping training...')\n",
        "      self.model.stop_trainig = True"
      ]
    },
    {
      "cell_type": "code",
      "execution_count": null,
      "metadata": {
        "id": "JebSo1MiOECP"
      },
      "outputs": [],
      "source": [
        "def model_fit(X_train, y_train, X_test, y_test, tuner):\n",
        "    custom_callback = CustomCallback()\n",
        "    tuner.search(X_train, y_train, epochs=5, validation_data=(X_test, y_test), callbacks=[custom_callback])\n",
        "    best_model = tuner.get_best_models(num_models=1)[0]\n",
        "    best_params = tuner.get_best_hyperparameters(num_trials=1)[0]\n",
        "    print(f'Best Parameters: {best_params}')\n",
        "    print(f'Best Model: {best_model}')\n",
        "    return best_model"
      ]
    },
    {
      "cell_type": "code",
      "execution_count": null,
      "metadata": {
        "colab": {
          "base_uri": "https://localhost:8080/"
        },
        "id": "oeNIOvLfPm66",
        "outputId": "f4b30e6a-06d0-4fd1-b444-3fb96c0d748c"
      },
      "outputs": [
        {
          "name": "stdout",
          "output_type": "stream",
          "text": [
            "Best Parameters: <keras_tuner.engine.hyperparameters.hyperparameters.HyperParameters object at 0x7f24b34dd720>\n",
            "Best Model: <keras.engine.sequential.Sequential object at 0x7f24b34df070>\n"
          ]
        }
      ],
      "source": [
        "tuner = BayesianOptimization(\n",
        "    build_model,\n",
        "    objective='val_loss',\n",
        "    max_trials=10,\n",
        "    executions_per_trial=2,\n",
        "    directory='my_dir',\n",
        "    project_name='keras_tuner_bayesian_opt'\n",
        ")\n",
        "\n",
        "best_model = model_fit(X_train, y_train, X_test, y_test, tuner)"
      ]
    },
    {
      "cell_type": "code",
      "execution_count": null,
      "metadata": {
        "colab": {
          "base_uri": "https://localhost:8080/"
        },
        "id": "s4bs8yyZPqhr",
        "outputId": "53680a89-1308-41c6-b719-7d1be196b538"
      },
      "outputs": [
        {
          "name": "stdout",
          "output_type": "stream",
          "text": [
            "24/24 [==============================] - 1s 5ms/step\n"
          ]
        },
        {
          "data": {
            "text/plain": [
              "(755, 2)"
            ]
          },
          "execution_count": 92,
          "metadata": {},
          "output_type": "execute_result"
        }
      ],
      "source": [
        "best_model = best_model.predict(X_test)\n",
        "best_model.shape"
      ]
    },
    {
      "cell_type": "code",
      "execution_count": null,
      "metadata": {
        "id": "QC2dDAhJQ6Fv"
      },
      "outputs": [],
      "source": [
        "def prediction_plot(predictions):\n",
        "  fig, ax = plt.subplots()\n",
        "  ax.plot(df[\"2018\":].index[:len(y_test)],\n",
        "          sc.inverse_transform(y_test[:, 0].reshape(-1 , 1)), label = \"Real\")\n",
        "  ax.plot(df[\"2018\":].index[:len(y_test)],\n",
        "          sc.inverse_transform(predictions[:, 0].reshape(-1 , 1)), label = \"Predictions\")"
      ]
    },
    {
      "cell_type": "code",
      "execution_count": null,
      "metadata": {
        "colab": {
          "base_uri": "https://localhost:8080/",
          "height": 430
        },
        "id": "9TYZIXZfQ7xh",
        "outputId": "cc8e32b9-d91c-4470-f106-4e44607ffbff"
      },
      "outputs": [
        {
          "data": {
            "image/png": "[encoded data removed]",
            "text/plain": [
              "<Figure size 640x480 with 1 Axes>"
            ]
          },
          "metadata": {},
          "output_type": "display_data"
        }
      ],
      "source": [
        "prediction_plot(best_model)"
      ]
    },
    {
      "cell_type": "code",
      "execution_count": null,
      "metadata": {
        "id": "vQMvkYjrS8DM"
      },
      "outputs": [],
      "source": []
    }
  ],
  "metadata": {
    "colab": {
      "provenance": []
    },
    "kernelspec": {
      "display_name": "Python 3",
      "name": "python3"
    },
    "language_info": {
      "name": "python"
    }
  },
  "nbformat": 4,
  "nbformat_minor": 0
}
