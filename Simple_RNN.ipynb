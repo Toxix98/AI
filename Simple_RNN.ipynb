{
  "nbformat": 4,
  "nbformat_minor": 0,
  "metadata": {
    "colab": {
      "provenance": []
    },
    "kernelspec": {
      "name": "python3",
      "display_name": "Python 3"
    },
    "language_info": {
      "name": "python"
    }
  },
  "cells": [
    {
      "cell_type": "code",
      "execution_count": null,
      "metadata": {
        "id": "lK8FzrLnnZ94"
      },
      "outputs": [],
      "source": [
        "!pip install yfinance\n",
        "!pip install keras-tuner"
      ]
    },
    {
      "cell_type": "code",
      "source": [
        "import numpy as np\n",
        "import tensorflow as tf\n",
        "import matplotlib.pyplot as plt\n",
        "import pandas as pd\n",
        "import yfinance as yf\n",
        "from sklearn.preprocessing import MinMaxScaler\n",
        "from tensorflow import keras\n",
        "from keras.layers import SimpleRNN, Dense, Dropout\n",
        "from kerastuner.tuners import BayesianOptimization\n",
        "from keras.models import Sequential\n",
        "from keras.optimizers import Adam"
      ],
      "metadata": {
        "id": "6RK3qNn4nkPC"
      },
      "execution_count": 37,
      "outputs": []
    },
    {
      "cell_type": "code",
      "source": [
        "goog = yf.download(\"GOOG\", start = \"2012-01-01\",\n",
        "                   end = \"2021-01-01\")\n",
        "\n",
        "df = goog[[\"Adj Close\", \"Open\", \"Close\", \"High\", \"Low\"]].round(3)\n",
        "df"
      ],
      "metadata": {
        "colab": {
          "base_uri": "https://localhost:8080/",
          "height": 472
        },
        "id": "0krSK2UaoM6a",
        "outputId": "0fab05f2-a9d7-465a-9faa-1bdec4caec87"
      },
      "execution_count": 38,
      "outputs": [
        {
          "output_type": "stream",
          "name": "stdout",
          "text": [
            "\r[*********************100%***********************]  1 of 1 completed\n"
          ]
        },
        {
          "output_type": "execute_result",
          "data": {
            "text/plain": [
              "            Adj Close    Open   Close    High     Low\n",
              "Date                                                 \n",
              "2012-01-03     16.573  16.263  16.573  16.641  16.248\n",
              "2012-01-04     16.645  16.564  16.645  16.694  16.454\n",
              "2012-01-05     16.414  16.491  16.414  16.537  16.344\n",
              "2012-01-06     16.190  16.417  16.190  16.438  16.184\n",
              "2012-01-09     15.503  16.102  15.503  16.115  15.473\n",
              "...               ...     ...     ...     ...     ...\n",
              "2020-12-24     86.942  86.750  86.942  87.300  86.455\n",
              "2020-12-28     88.804  87.582  88.804  89.536  87.317\n",
              "2020-12-29     87.936  89.390  87.936  89.622  87.804\n",
              "2020-12-30     86.976  88.101  86.976  88.255  86.280\n",
              "2020-12-31     87.594  86.771  87.594  87.947  86.771\n",
              "\n",
              "[2265 rows x 5 columns]"
            ],
            "text/html": [
              "\n",
              "  <div id=\"df-35f8f589-31c4-4d94-a398-be1482045d61\">\n",
              "    <div class=\"colab-df-container\">\n",
              "      <div>\n",
              "<style scoped>\n",
              "    .dataframe tbody tr th:only-of-type {\n",
              "        vertical-align: middle;\n",
              "    }\n",
              "\n",
              "    .dataframe tbody tr th {\n",
              "        vertical-align: top;\n",
              "    }\n",
              "\n",
              "    .dataframe thead th {\n",
              "        text-align: right;\n",
              "    }\n",
              "</style>\n",
              "<table border=\"1\" class=\"dataframe\">\n",
              "  <thead>\n",
              "    <tr style=\"text-align: right;\">\n",
              "      <th></th>\n",
              "      <th>Adj Close</th>\n",
              "      <th>Open</th>\n",
              "      <th>Close</th>\n",
              "      <th>High</th>\n",
              "      <th>Low</th>\n",
              "    </tr>\n",
              "    <tr>\n",
              "      <th>Date</th>\n",
              "      <th></th>\n",
              "      <th></th>\n",
              "      <th></th>\n",
              "      <th></th>\n",
              "      <th></th>\n",
              "    </tr>\n",
              "  </thead>\n",
              "  <tbody>\n",
              "    <tr>\n",
              "      <th>2012-01-03</th>\n",
              "      <td>16.573</td>\n",
              "      <td>16.263</td>\n",
              "      <td>16.573</td>\n",
              "      <td>16.641</td>\n",
              "      <td>16.248</td>\n",
              "    </tr>\n",
              "    <tr>\n",
              "      <th>2012-01-04</th>\n",
              "      <td>16.645</td>\n",
              "      <td>16.564</td>\n",
              "      <td>16.645</td>\n",
              "      <td>16.694</td>\n",
              "      <td>16.454</td>\n",
              "    </tr>\n",
              "    <tr>\n",
              "      <th>2012-01-05</th>\n",
              "      <td>16.414</td>\n",
              "      <td>16.491</td>\n",
              "      <td>16.414</td>\n",
              "      <td>16.537</td>\n",
              "      <td>16.344</td>\n",
              "    </tr>\n",
              "    <tr>\n",
              "      <th>2012-01-06</th>\n",
              "      <td>16.190</td>\n",
              "      <td>16.417</td>\n",
              "      <td>16.190</td>\n",
              "      <td>16.438</td>\n",
              "      <td>16.184</td>\n",
              "    </tr>\n",
              "    <tr>\n",
              "      <th>2012-01-09</th>\n",
              "      <td>15.503</td>\n",
              "      <td>16.102</td>\n",
              "      <td>15.503</td>\n",
              "      <td>16.115</td>\n",
              "      <td>15.473</td>\n",
              "    </tr>\n",
              "    <tr>\n",
              "      <th>...</th>\n",
              "      <td>...</td>\n",
              "      <td>...</td>\n",
              "      <td>...</td>\n",
              "      <td>...</td>\n",
              "      <td>...</td>\n",
              "    </tr>\n",
              "    <tr>\n",
              "      <th>2020-12-24</th>\n",
              "      <td>86.942</td>\n",
              "      <td>86.750</td>\n",
              "      <td>86.942</td>\n",
              "      <td>87.300</td>\n",
              "      <td>86.455</td>\n",
              "    </tr>\n",
              "    <tr>\n",
              "      <th>2020-12-28</th>\n",
              "      <td>88.804</td>\n",
              "      <td>87.582</td>\n",
              "      <td>88.804</td>\n",
              "      <td>89.536</td>\n",
              "      <td>87.317</td>\n",
              "    </tr>\n",
              "    <tr>\n",
              "      <th>2020-12-29</th>\n",
              "      <td>87.936</td>\n",
              "      <td>89.390</td>\n",
              "      <td>87.936</td>\n",
              "      <td>89.622</td>\n",
              "      <td>87.804</td>\n",
              "    </tr>\n",
              "    <tr>\n",
              "      <th>2020-12-30</th>\n",
              "      <td>86.976</td>\n",
              "      <td>88.101</td>\n",
              "      <td>86.976</td>\n",
              "      <td>88.255</td>\n",
              "      <td>86.280</td>\n",
              "    </tr>\n",
              "    <tr>\n",
              "      <th>2020-12-31</th>\n",
              "      <td>87.594</td>\n",
              "      <td>86.771</td>\n",
              "      <td>87.594</td>\n",
              "      <td>87.947</td>\n",
              "      <td>86.771</td>\n",
              "    </tr>\n",
              "  </tbody>\n",
              "</table>\n",
              "<p>2265 rows × 5 columns</p>\n",
              "</div>\n",
              "      <button class=\"colab-df-convert\" onclick=\"convertToInteractive('df-35f8f589-31c4-4d94-a398-be1482045d61')\"\n",
              "              title=\"Convert this dataframe to an interactive table.\"\n",
              "              style=\"display:none;\">\n",
              "        \n",
              "  <svg xmlns=\"http://www.w3.org/2000/svg\" height=\"24px\"viewBox=\"0 0 24 24\"\n",
              "       width=\"24px\">\n",
              "    <path d=\"M0 0h24v24H0V0z\" fill=\"none\"/>\n",
              "    <path d=\"M18.56 5.44l.94 2.06.94-2.06 2.06-.94-2.06-.94-.94-2.06-.94 2.06-2.06.94zm-11 1L8.5 8.5l.94-2.06 2.06-.94-2.06-.94L8.5 2.5l-.94 2.06-2.06.94zm10 10l.94 2.06.94-2.06 2.06-.94-2.06-.94-.94-2.06-.94 2.06-2.06.94z\"/><path d=\"M17.41 7.96l-1.37-1.37c-.4-.4-.92-.59-1.43-.59-.52 0-1.04.2-1.43.59L10.3 9.45l-7.72 7.72c-.78.78-.78 2.05 0 2.83L4 21.41c.39.39.9.59 1.41.59.51 0 1.02-.2 1.41-.59l7.78-7.78 2.81-2.81c.8-.78.8-2.07 0-2.86zM5.41 20L4 18.59l7.72-7.72 1.47 1.35L5.41 20z\"/>\n",
              "  </svg>\n",
              "      </button>\n",
              "      \n",
              "  <style>\n",
              "    .colab-df-container {\n",
              "      display:flex;\n",
              "      flex-wrap:wrap;\n",
              "      gap: 12px;\n",
              "    }\n",
              "\n",
              "    .colab-df-convert {\n",
              "      background-color: #E8F0FE;\n",
              "      border: none;\n",
              "      border-radius: 50%;\n",
              "      cursor: pointer;\n",
              "      display: none;\n",
              "      fill: #1967D2;\n",
              "      height: 32px;\n",
              "      padding: 0 0 0 0;\n",
              "      width: 32px;\n",
              "    }\n",
              "\n",
              "    .colab-df-convert:hover {\n",
              "      background-color: #E2EBFA;\n",
              "      box-shadow: 0px 1px 2px rgba(60, 64, 67, 0.3), 0px 1px 3px 1px rgba(60, 64, 67, 0.15);\n",
              "      fill: #174EA6;\n",
              "    }\n",
              "\n",
              "    [theme=dark] .colab-df-convert {\n",
              "      background-color: #3B4455;\n",
              "      fill: #D2E3FC;\n",
              "    }\n",
              "\n",
              "    [theme=dark] .colab-df-convert:hover {\n",
              "      background-color: #434B5C;\n",
              "      box-shadow: 0px 1px 3px 1px rgba(0, 0, 0, 0.15);\n",
              "      filter: drop-shadow(0px 1px 2px rgba(0, 0, 0, 0.3));\n",
              "      fill: #FFFFFF;\n",
              "    }\n",
              "  </style>\n",
              "\n",
              "      <script>\n",
              "        const buttonEl =\n",
              "          document.querySelector('#df-35f8f589-31c4-4d94-a398-be1482045d61 button.colab-df-convert');\n",
              "        buttonEl.style.display =\n",
              "          google.colab.kernel.accessAllowed ? 'block' : 'none';\n",
              "\n",
              "        async function convertToInteractive(key) {\n",
              "          const element = document.querySelector('#df-35f8f589-31c4-4d94-a398-be1482045d61');\n",
              "          const dataTable =\n",
              "            await google.colab.kernel.invokeFunction('convertToInteractive',\n",
              "                                                     [key], {});\n",
              "          if (!dataTable) return;\n",
              "\n",
              "          const docLinkHtml = 'Like what you see? Visit the ' +\n",
              "            '<a target=\"_blank\" href=https://colab.research.google.com/notebooks/data_table.ipynb>data table notebook</a>'\n",
              "            + ' to learn more about interactive tables.';\n",
              "          element.innerHTML = '';\n",
              "          dataTable['output_type'] = 'display_data';\n",
              "          await google.colab.output.renderOutput(dataTable, element);\n",
              "          const docLink = document.createElement('div');\n",
              "          docLink.innerHTML = docLinkHtml;\n",
              "          element.appendChild(docLink);\n",
              "        }\n",
              "      </script>\n",
              "    </div>\n",
              "  </div>\n",
              "  "
            ]
          },
          "metadata": {},
          "execution_count": 38
        }
      ]
    },
    {
      "cell_type": "code",
      "source": [
        "train_df = df[:\"2018\"].Close.values.reshape(-1 ,1)\n",
        "test_df = df[\"2018\":].Close.values.reshape(-1 ,1)\n",
        "\n",
        "print(f\"Total Data{len(df)}\")\n",
        "print(f\"Train Data{len(train_df)}\")\n",
        "print(f\"Test Data{len(test_df)}\")"
      ],
      "metadata": {
        "colab": {
          "base_uri": "https://localhost:8080/"
        },
        "id": "G7pZVotxplqH",
        "outputId": "86ab87ed-b0e6-4d4c-afa7-8298fe512bdf"
      },
      "execution_count": 39,
      "outputs": [
        {
          "output_type": "stream",
          "name": "stdout",
          "text": [
            "Total Data2265\n",
            "Train Data1760\n",
            "Test Data756\n"
          ]
        }
      ]
    },
    {
      "cell_type": "code",
      "source": [
        "def ts_data(df, X_steps, y_steps):\n",
        "  train_df = df[:\"2018\"].Close.values.reshape(-1 ,1)\n",
        "  test_df = df[\"2018\":].Close.values.reshape(-1 ,1)\n",
        "\n",
        "  sc = MinMaxScaler(feature_range=(0, 1))\n",
        "  train_df_scale = sc.fit_transform(train_df)\n",
        "\n",
        "  X_train = []\n",
        "  y_train = []\n",
        "\n",
        "  for i in range(X_steps, len(train_df_scale)-y_steps+1):\n",
        "    X_train.append(train_df_scale[i-X_steps:i, 0])\n",
        "    y_train.append(train_df_scale[i:i+y_steps, 0])\n",
        "  X_train = np.array(X_train)\n",
        "  y_train = np.array(y_train)\n",
        "  X_train = X_train.reshape((X_train.shape[0], X_train.shape[1], 1))\n",
        "\n",
        "  X = df.Close.values\n",
        "  X = X[len(X)-len(test_df)-X_steps:]\n",
        "  X = X.reshape(-1 ,1)\n",
        "  X = sc.transform(X)\n",
        "\n",
        "  X_test = []\n",
        "  y_test = []\n",
        "\n",
        "  for i in range(X_steps, len(test_df)+X_steps-y_steps+1):\n",
        "    X_test.append(X[i-X_steps:i, 0])\n",
        "    y_test.append(X[i:i+y_steps, 0])\n",
        "  X_test = np.array(X_test)\n",
        "  y_test = np.array(y_test)\n",
        "  X_test = X_test.reshape([X_test.shape[0], X_test.shape[1], 1])\n",
        "\n",
        "  return X_train, y_train, X_test, y_test, sc"
      ],
      "metadata": {
        "id": "wlYWwNpiqxdh"
      },
      "execution_count": 40,
      "outputs": []
    },
    {
      "cell_type": "code",
      "source": [
        "X_train, y_train, X_test, y_test , sc = ts_data(df, 6, 2)"
      ],
      "metadata": {
        "id": "edx0-tMcrzcQ"
      },
      "execution_count": 41,
      "outputs": []
    },
    {
      "cell_type": "code",
      "source": [
        "X_train.shape"
      ],
      "metadata": {
        "colab": {
          "base_uri": "https://localhost:8080/"
        },
        "id": "lHYHUqNeumqH",
        "outputId": "e904f571-cdd0-4a32-cd3f-a503d148f9da"
      },
      "execution_count": 42,
      "outputs": [
        {
          "output_type": "execute_result",
          "data": {
            "text/plain": [
              "(1753, 6, 1)"
            ]
          },
          "metadata": {},
          "execution_count": 42
        }
      ]
    },
    {
      "cell_type": "code",
      "source": [
        "X_test.shape"
      ],
      "metadata": {
        "colab": {
          "base_uri": "https://localhost:8080/"
        },
        "id": "Ijg9rPM4vyW_",
        "outputId": "96ca915f-f5a2-4db4-9eb4-d933001d6fc9"
      },
      "execution_count": 43,
      "outputs": [
        {
          "output_type": "execute_result",
          "data": {
            "text/plain": [
              "(755, 6, 1)"
            ]
          },
          "metadata": {},
          "execution_count": 43
        }
      ]
    },
    {
      "cell_type": "code",
      "source": [
        "def build_model(hp):\n",
        "    model = Sequential()\n",
        "    model.add(SimpleRNN(units=hp.Int('units', min_value=32, max_value=512, step=32),\n",
        "                                     input_shape=(X_train.shape[1], X_train.shape[2]), return_sequences=True))\n",
        "    model.add(Dropout(rate=hp.Float('dropout', min_value=0.0, max_value=0.5, step=0.1)))\n",
        "    model.add(SimpleRNN(units=hp.Int('units', min_value=32, max_value=512, step=32)))\n",
        "    model.add(Dropout(rate=hp.Float('dropout', min_value=0.0, max_value=0.5, step=0.1)))\n",
        "    model.add(Dense(units=y_train.shape[1]))\n",
        "\n",
        "    model.compile(optimizer=keras.optimizers.Adam(hp.Choice('learning_rate', values=[1e-2, 1e-3, 1e-4])),\n",
        "                  loss='mean_absolute_error')\n",
        "    return model"
      ],
      "metadata": {
        "id": "66UTp7Mqv4Ev"
      },
      "execution_count": 57,
      "outputs": []
    },
    {
      "cell_type": "code",
      "source": [
        "class CustomCallback(keras.callbacks.Callback):\n",
        "    def on_epoch_end(self, epoch, logs=None):\n",
        "        if logs.get('val_loss') < 0.05:\n",
        "            print('\\nValidation loss decreased below 0.05, stopping training...')\n",
        "            self.model.stop_training = True"
      ],
      "metadata": {
        "id": "hgiPQi6YzILI"
      },
      "execution_count": 58,
      "outputs": []
    },
    {
      "cell_type": "code",
      "source": [
        "def model_fit(X_train, y_train, X_test, y_test, tuner):\n",
        "    custom_callback = CustomCallback()\n",
        "    tuner.search(X_train, y_train, epochs=5, validation_data=(X_test, y_test), callbacks=[custom_callback])\n",
        "    best_model = tuner.get_best_models(num_models=1)[0]\n",
        "    best_params = tuner.get_best_hyperparameters(num_trials=1)[0]\n",
        "    print(f'Best Parameters: {best_params}')\n",
        "    print(f'Best Model: {best_model}')\n",
        "    return best_model"
      ],
      "metadata": {
        "id": "sUUfWMRo6OGU"
      },
      "execution_count": 59,
      "outputs": []
    },
    {
      "cell_type": "code",
      "source": [
        "tuner = BayesianOptimization(\n",
        "    build_model,\n",
        "    objective='val_loss',\n",
        "    max_trials=10,\n",
        "    executions_per_trial=2,\n",
        "    directory='my_dir',\n",
        "    project_name='keras_tuner_bayesian_opt'\n",
        ")\n",
        "\n",
        "best_model = model_fit(X_train, y_train, X_test, y_test, tuner)"
      ],
      "metadata": {
        "colab": {
          "base_uri": "https://localhost:8080/"
        },
        "id": "oL5gkNIv7w5U",
        "outputId": "3492b5b7-8011-4b95-fb52-c4e9a823ef4e"
      },
      "execution_count": 60,
      "outputs": [
        {
          "output_type": "stream",
          "name": "stdout",
          "text": [
            "Trial 10 Complete [00h 00m 20s]\n",
            "val_loss: 0.04575696587562561\n",
            "\n",
            "Best val_loss So Far: 0.03608260303735733\n",
            "Total elapsed time: 00h 02m 45s\n",
            "Best Parameters: <keras_tuner.engine.hyperparameters.hyperparameters.HyperParameters object at 0x7f79082affd0>\n",
            "Best Model: <keras.engine.sequential.Sequential object at 0x7f7904d42440>\n"
          ]
        }
      ]
    },
    {
      "cell_type": "code",
      "source": [
        "best_model = best_model.predict(X_test)\n",
        "best_model.shape"
      ],
      "metadata": {
        "colab": {
          "base_uri": "https://localhost:8080/"
        },
        "id": "c9mM8-PU8qyT",
        "outputId": "eff19446-a722-4374-e089-7d33449e82f2"
      },
      "execution_count": 61,
      "outputs": [
        {
          "output_type": "stream",
          "name": "stdout",
          "text": [
            "24/24 [==============================] - 1s 18ms/step\n"
          ]
        },
        {
          "output_type": "execute_result",
          "data": {
            "text/plain": [
              "(755, 2)"
            ]
          },
          "metadata": {},
          "execution_count": 61
        }
      ]
    },
    {
      "cell_type": "code",
      "source": [
        "def prediction_plot(predictions):\n",
        "  fig, ax = plt.subplots()\n",
        "  ax.plot(df[\"2018\":].index[:len(y_test)],\n",
        "          sc.inverse_transform(y_test[:, 0].reshape(-1 , 1)), label = \"Real\")\n",
        "  ax.plot(df[\"2018\":].index[:len(y_test)],\n",
        "          sc.inverse_transform(predictions[:, 0].reshape(-1 , 1)), label = \"Predictions\")"
      ],
      "metadata": {
        "id": "useXYBWY-Fgy"
      },
      "execution_count": 67,
      "outputs": []
    },
    {
      "cell_type": "code",
      "source": [
        "prediction_plot(best_model)"
      ],
      "metadata": {
        "colab": {
          "base_uri": "https://localhost:8080/",
          "height": 430
        },
        "id": "ox7Xdax8_d0C",
        "outputId": "bdb4a49e-c118-4dee-c33c-d28660ad7a63"
      },
      "execution_count": 68,
      "outputs": [
        {
          "output_type": "display_data",
          "data": {
            "text/plain": [
              "<Figure size 640x480 with 1 Axes>"
            ],
            "image/png": "[encoded data removed]"
          },
          "metadata": {}
        }
      ]
    },
    {
      "cell_type": "code",
      "source": [],
      "metadata": {
        "id": "Fr47LWtl_nkY"
      },
      "execution_count": null,
      "outputs": []
    }
  ]
}