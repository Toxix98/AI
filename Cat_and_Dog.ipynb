{
 "cells": [
  {
   "cell_type": "code",
   "execution_count": 7,
   "id": "721d49af",
   "metadata": {},
   "outputs": [],
   "source": [
    "!pip install -Uqq fastbook\n",
    "import fastbook\n",
    "from fastbook import *"
   ]
  },
  {
   "cell_type": "code",
   "execution_count": 8,
   "id": "1adeac2b",
   "metadata": {},
   "outputs": [],
   "source": [
    "from fastai.vision.all import *\n",
    "\n",
    "dest = '/content/DataML'\n",
    "path = untar_data (URLs.PETS, data=dest)/'images' \n",
    "def is_cat(x): return x[0].isupper() \n",
    "\n",
    "dls = ImageDataLoaders.from_name_func(\n",
    "    path=path, fnames=get_image_files(path),        \n",
    "    valid_pct=0.2, seed=42,\n",
    "    label_func=is_cat, item_tfms=Resize(224)\n",
    ")     "
   ]
  },
  {
   "cell_type": "code",
   "execution_count": null,
   "id": "07ac0665",
   "metadata": {},
   "outputs": [],
   "source": [
    "learn = cnn_learner(dls, resnet34, metrics=error_rate)\n",
    "learn.fine_tune(1)"
   ]
  },
  {
   "cell_type": "code",
   "execution_count": null,
   "id": "88767ce2",
   "metadata": {},
   "outputs": [],
   "source": [
    "uploader = widgets.FileUpload()\n",
    "uploader"
   ]
  },
  {
   "cell_type": "code",
   "execution_count": null,
   "id": "f72c815a",
   "metadata": {},
   "outputs": [],
   "source": [
    "mg = PILImage.create(uploader.data[0])\n",
    "pred,_,_ = learn.predict(img)\n",
    "if pred == 'True': \n",
    "    print(f'Prediction: Cat')\n",
    "else: \n",
    "    print(f'Prediction: Dog')\n",
    "     "
   ]
  },
  {
   "cell_type": "code",
   "execution_count": null,
   "id": "eac811be",
   "metadata": {},
   "outputs": [],
   "source": []
  }
 ],
 "metadata": {
  "kernelspec": {
   "display_name": "Python 3 (ipykernel)",
   "language": "python",
   "name": "python3"
  },
  "language_info": {
   "codemirror_mode": {
    "name": "ipython",
    "version": 3
   },
   "file_extension": ".py",
   "mimetype": "text/x-python",
   "name": "python",
   "nbconvert_exporter": "python",
   "pygments_lexer": "ipython3",
   "version": "3.10.9"
  }
 },
 "nbformat": 4,
 "nbformat_minor": 5
}
