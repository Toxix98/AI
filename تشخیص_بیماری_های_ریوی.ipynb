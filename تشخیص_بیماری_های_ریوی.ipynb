{
  "nbformat": 4,
  "nbformat_minor": 0,
  "metadata": {
    "colab": {
      "provenance": []
    },
    "kernelspec": {
      "name": "python3",
      "display_name": "Python 3"
    },
    "language_info": {
      "name": "python"
    }
  },
  "cells": [
    {
      "cell_type": "code",
      "execution_count": null,
      "metadata": {
        "id": "teBw5Glou-Pd"
      },
      "outputs": [],
      "source": [
        "import tensorflow as tf\n",
        "from tensorflow.keras.layers import Dense, Flatten\n",
        "from tensorflow.keras.applications.vgg16 import VGG16 as pretrainedModel ,preprocess_input\n",
        "from keras import models\n",
        "from tensorflow.keras.models import Model\n",
        "from tensorflow.keras.preprocessing import image\n",
        "from glob import glob\n",
        "import numpy as np\n",
        "import matplotlib.pyplot as plt\n",
        "from keras.preprocessing.image import ImageDataGenerator"
      ]
    },
    {
      "cell_type": "code",
      "source": [
        "train_path = '/content/data/train'\n",
        "valid_path = '/content/data/test'"
      ],
      "metadata": {
        "id": "Spmk4U-Nv8xO"
      },
      "execution_count": null,
      "outputs": []
    },
    {
      "cell_type": "code",
      "source": [
        "image_size  = [32, 32]"
      ],
      "metadata": {
        "id": "0kP0lh6jwrX-"
      },
      "execution_count": null,
      "outputs": []
    },
    {
      "cell_type": "code",
      "source": [
        "imageFiles = glob(train_path + '/*/*.jpeg')\n",
        "validFile = glob(valid_path + '/*/*.jpeg')\n",
        "folders = glob(train_path + '/*')"
      ],
      "metadata": {
        "id": "Nx8znrlwwuWd"
      },
      "execution_count": null,
      "outputs": []
    },
    {
      "cell_type": "code",
      "source": [
        "ptm = pretrainedModel(\n",
        "    input_shape = image_size + [3],\n",
        "    weights = 'imagenet',\n",
        "    include_top = False\n",
        ") "
      ],
      "metadata": {
        "colab": {
          "base_uri": "https://localhost:8080/"
        },
        "id": "12uZZ2_tyACc",
        "outputId": "38eed2ed-da67-4049-ae32-f2c53a503e64"
      },
      "execution_count": null,
      "outputs": [
        {
          "output_type": "stream",
          "name": "stdout",
          "text": [
            "Downloading data from https://storage.googleapis.com/tensorflow/keras-applications/vgg16/vgg16_weights_tf_dim_ordering_tf_kernels_notop.h5\n",
            "58889256/58889256 [==============================] - 0s 0us/step\n"
          ]
        }
      ]
    },
    {
      "cell_type": "code",
      "source": [
        "ptm.trainabel = False"
      ],
      "metadata": {
        "id": "HX-Eze_8yiEW"
      },
      "execution_count": null,
      "outputs": []
    },
    {
      "cell_type": "code",
      "source": [
        "k = len(folders)"
      ],
      "metadata": {
        "id": "30XX1HbZywCt"
      },
      "execution_count": null,
      "outputs": []
    },
    {
      "cell_type": "code",
      "source": [
        "x = Flatten()(ptm.output)\n",
        "x = Dense(k, activation = 'softmax')(x)\n",
        "model = Model(inputs = ptm.input, outputs = x)"
      ],
      "metadata": {
        "id": "Ku7b6Q5oy0C1"
      },
      "execution_count": null,
      "outputs": []
    },
    {
      "cell_type": "code",
      "source": [
        "gen = ImageDataGenerator(\n",
        "    rotation_range = 20,\n",
        "    width_shift_range = 0.1,\n",
        "    height_shift_range = 0.1,\n",
        "    preprocessing_function = preprocess_input\n",
        ")"
      ],
      "metadata": {
        "id": "ydkQkeW0zPat"
      },
      "execution_count": null,
      "outputs": []
    },
    {
      "cell_type": "code",
      "source": [
        "batchsize = 128"
      ],
      "metadata": {
        "id": "qIk6gitn0Omd"
      },
      "execution_count": null,
      "outputs": []
    },
    {
      "cell_type": "code",
      "source": [
        "train_generator = gen.flow_from_directory(\n",
        "    train_path,\n",
        "    shuffle = True,\n",
        "    target_size = image_size,\n",
        "    batch_size = batchsize\n",
        ")"
      ],
      "metadata": {
        "colab": {
          "base_uri": "https://localhost:8080/"
        },
        "id": "m4lY_86o0d3d",
        "outputId": "c816e65a-f752-4890-d2b1-6bb99a146d8f"
      },
      "execution_count": null,
      "outputs": [
        {
          "output_type": "stream",
          "name": "stdout",
          "text": [
            "Found 12 images belonging to 2 classes.\n"
          ]
        }
      ]
    },
    {
      "cell_type": "code",
      "source": [
        "valid_generator = gen.flow_from_directory(\n",
        "    valid_path,\n",
        "    shuffle = True,\n",
        "    target_size = image_size,\n",
        "    batch_size = batchsize\n",
        ")"
      ],
      "metadata": {
        "colab": {
          "base_uri": "https://localhost:8080/"
        },
        "id": "CeY0xFRS046k",
        "outputId": "4d482ccc-e4c8-4904-89a3-3fcb516f0d86"
      },
      "execution_count": null,
      "outputs": [
        {
          "output_type": "stream",
          "name": "stdout",
          "text": [
            "Found 12 images belonging to 2 classes.\n"
          ]
        }
      ]
    },
    {
      "cell_type": "code",
      "source": [
        "model.compile(loss = 'categorical_crossentropy', optimizer = 'adam', metrics = ['accuracy'])"
      ],
      "metadata": {
        "id": "LH2iuDxR1TDF"
      },
      "execution_count": null,
      "outputs": []
    },
    {
      "cell_type": "code",
      "source": [
        "r = model.fit_generator(train_generator, validation_data = valid_generator, epochs = 5)"
      ],
      "metadata": {
        "id": "5mD_ZJNG1mVM"
      },
      "execution_count": null,
      "outputs": []
    },
    {
      "cell_type": "code",
      "source": [
        "plt.plot(r.history['loss'], label = 'loss')\n",
        "plt.plot(r.history['val_loss'], label = 'val_loss')\n",
        "plt.legend()"
      ],
      "metadata": {
        "id": "TBsJJJa91yTk"
      },
      "execution_count": null,
      "outputs": []
    },
    {
      "cell_type": "code",
      "source": [
        "plt.plot(r.history['accuracy'], label = 'accuracy')\n",
        "plt.plot(r.history['val_accuracy'], label = 'val_accuracy')\n",
        "plt.legend()"
      ],
      "metadata": {
        "id": "rW4hvPf72Ps2"
      },
      "execution_count": null,
      "outputs": []
    },
    {
      "cell_type": "code",
      "source": [],
      "metadata": {
        "id": "i4wEE2xa28mu"
      },
      "execution_count": null,
      "outputs": []
    }
  ]
}