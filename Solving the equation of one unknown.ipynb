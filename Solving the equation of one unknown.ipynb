{
 "cells": [
  {
   "cell_type": "code",
   "execution_count": 2,
   "id": "9f224abb",
   "metadata": {},
   "outputs": [],
   "source": [
    "import tensorflow as tf\n",
    "from tensorflow import keras\n",
    "from sympy.parsing.sympy_parser import parse_expr\n",
    "import numpy as np"
   ]
  },
  {
   "cell_type": "code",
   "execution_count": 4,
   "id": "254cfc3f",
   "metadata": {
    "scrolled": false
   },
   "outputs": [],
   "source": [
    "model = keras.Sequential([\n",
    "    keras.layers.Dense(512, input_shape=(1,), activation='relu'),\n",
    "    keras.layers.Dense(1024, activation='relu'),\n",
    "    keras.layers.Dense(512, activation='relu'),\n",
    "    keras.layers.Dense(1, activation='linear')\n",
    "])"
   ]
  },
  {
   "cell_type": "code",
   "execution_count": 6,
   "id": "f7663af2",
   "metadata": {},
   "outputs": [],
   "source": [
    "def solve_equation(equation):\n",
    "    try:\n",
    "        x = float(equation.split('=')[1])\n",
    "        expr = parse_expr(equation.split('=')[0])\n",
    "        result = float(expr.evalf(subs={'x': x}))\n",
    "        return result\n",
    "    except:\n",
    "        return None"
   ]
  },
  {
   "cell_type": "code",
   "execution_count": null,
   "id": "381cbe1b",
   "metadata": {},
   "outputs": [],
   "source": [
    "model.compile(optimizer='adam', loss='mean_squared_error')\n",
    "\n",
    "X_train = np.array([-10, -9, -8, -7, -6, -5, -4, -3, -2, -1, 0, 1, 2, 3, 4, 5, 6, 7, 8, 9, 10], dtype=float)\n",
    "y_train = np.array([np.sin(x) for x in X_train], dtype=float)\n",
    "\n",
    "model.fit(X_train, y_train, epochs=9000)"
   ]
  },
  {
   "cell_type": "code",
   "execution_count": null,
   "id": "a4dc39af",
   "metadata": {},
   "outputs": [],
   "source": [
    "def main():\n",
    "    print(\"Welcome to the advanced math solver!\")\n",
    "    print(\"To exit, type 'quit'.\")\n",
    "\n",
    "    while True:\n",
    "        # Get an equation from the user\n",
    "        equation = input(\"Please enter an equation: \")\n",
    "\n",
    "        # If the user wants to exit, end the program\n",
    "        if equation == \"quit\":\n",
    "            break\n",
    "\n",
    "        # Solve the equation\n",
    "        solution = solve_equation(equation)\n",
    "\n",
    "        # Print the solution\n",
    "        if solution is not None:\n",
    "            print(f\"Solution: {solution}\")\n",
    "        else:\n",
    "            print(\"Sorry, I could not solve the equation.\")\n",
    "\n",
    "if __name__ == \"__main__\":\n",
    "    main()"
   ]
  }
 ],
 "metadata": {
  "kernelspec": {
   "display_name": "Python 3 (ipykernel)",
   "language": "python",
   "name": "python3"
  },
  "language_info": {
   "codemirror_mode": {
    "name": "ipython",
    "version": 3
   },
   "file_extension": ".py",
   "mimetype": "text/x-python",
   "name": "python",
   "nbconvert_exporter": "python",
   "pygments_lexer": "ipython3",
   "version": "3.10.9"
  }
 },
 "nbformat": 4,
 "nbformat_minor": 5
}
